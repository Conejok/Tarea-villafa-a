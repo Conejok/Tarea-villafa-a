{
 "cells": [
  {
   "cell_type": "code",
   "execution_count": null,
   "id": "45e76dc1",
   "metadata": {},
   "outputs": [],
   "source": [
    "from operaciones import suma, resta, pot, multi, div\n",
    "\n",
    "def mostrar_menu():\n",
    "    print(\"Opciones:\")\n",
    "    print(\"1. Suma\")\n",
    "    print(\"2. Resta\")\n",
    "    print(\"3. Multiplicación\")\n",
    "    print(\"4. División\")\n",
    "    print(\"5. Potenciación\")\n",
    "    print(\"6. Salir\")\n",
    "\n",
    "def main():\n",
    "    while True:\n",
    "        mostrar_menu()\n",
    "        opcion = input(\"Selecciona una opción (1,2,3,4,5,6): \")\n",
    "        \n",
    "        if opcion == '1':\n",
    "            suma.ejecutar()\n",
    "        elif opcion == '2':\n",
    "            resta.ejecutar()\n",
    "        elif opcion == '3':\n",
    "            multi.ejecutar()\n",
    "        elif opcion == '4':\n",
    "            div.ejecutar()\n",
    "        elif opcion == '5':\n",
    "            pot.ejecutar()\n",
    "        elif opcion == '6':\n",
    "            print(\"Adióssssssssssssssssss.\")\n",
    "            break\n",
    "        else:\n",
    "            print(\"elige algo correcto.\")\n",
    "\n",
    "if __name__ == \"__main__\":\n",
    "    main()\n"
   ]
  }
 ],
 "metadata": {
  "kernelspec": {
   "display_name": "Python 3 (ipykernel)",
   "language": "python",
   "name": "python3"
  },
  "language_info": {
   "codemirror_mode": {
    "name": "ipython",
    "version": 3
   },
   "file_extension": ".py",
   "mimetype": "text/x-python",
   "name": "python",
   "nbconvert_exporter": "python",
   "pygments_lexer": "ipython3",
   "version": "3.11.4"
  }
 },
 "nbformat": 4,
 "nbformat_minor": 5
}
